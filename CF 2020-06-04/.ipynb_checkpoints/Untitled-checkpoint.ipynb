{
 "cells": [
  {
   "cell_type": "code",
   "execution_count": 13,
   "metadata": {},
   "outputs": [
    {
     "name": "stdout",
     "output_type": "stream",
     "text": [
      "1\n",
      "342446097573989668 171223048786994834\n",
      "342446097573989668 171223048786994834\n",
      "here\n",
      "2\n",
      "-1\n"
     ]
    }
   ],
   "source": [
    "import math\n",
    "tc = int(input())\n",
    "while (True):\n",
    "    if tc == 0: break\n",
    "    tc = tc-1\n",
    "    #print(\"a\")\n",
    "    tmp = input()\n",
    "    lst = tmp.split(\" \")\n",
    "    a = int(lst[0])\n",
    "    b = int (lst[1])\n",
    "    print(a,b)\n",
    "    if a >= b:\n",
    "        print(\"here\")\n",
    "        tot = 0\n",
    "        while(a%8 == 0):\n",
    "            tmp = a//8\n",
    "            if tmp < b: break\n",
    "            a = tmp\n",
    "            tot += 1\n",
    "        while(a%4 == 0):\n",
    "            tmp = a//4\n",
    "            if tmp < b: break\n",
    "            a = tmp\n",
    "            tot += 1\n",
    "        while(a%2 == 0):\n",
    "            tmp = a//2\n",
    "            if tmp < b: break\n",
    "            a = a//2\n",
    "            tot += 1\n",
    "        \n",
    "        if (a==b): print(tot)\n",
    "        else: print(-1)\n",
    "    else:\n",
    "        tot = 0;\n",
    "        while (a*8 <= b):\n",
    "            a = a*8\n",
    "            tot += 1\n",
    "        while(a*4 <= b):\n",
    "            a = a*4\n",
    "            tot += 1\n",
    "        while(a*2 <= b):\n",
    "            a = a*2\n",
    "            tot += 1\n",
    "        print(a,b)\n",
    "        if (a/b == 1.0): print(tot)\n",
    "        else: print(-1)\n",
    "        \n",
    "        \n",
    "        "
   ]
  },
  {
   "cell_type": "markdown",
   "metadata": {},
   "source": [
    "# tc = int(input())\n",
    "while (True):\n",
    "    if tc == 0: break\n",
    "    tc = tc-1\n",
    "    #print(\"a\")\n",
    "    tmp = input()\n",
    "    lst = tmp.split()\n",
    "    a = int(lst[0])\n",
    "    b = int (lst[1])\n",
    "    a1 = \"\"\n",
    "    b1 = \"\"\n",
    "    while (a != 0):\n",
    "        x = a%2\n",
    "        a1 = str(x)+a1\n",
    "        a = int (a/2)\n",
    "    while (b != 0):\n",
    "        x = b%2\n",
    "        b1 = str(x)+b1\n",
    "        b = int (b/2)   \n",
    "    print(a1)\n",
    "    print(b1)\n",
    "    if (len(a1) >= len(b1)):\n",
    "        flag = 0\n",
    "        for i in range(len(b1)):\n",
    "            if (a1[i] == b1[i]): continue\n",
    "            else:\n",
    "                flag = 1\n",
    "                print(-1)\n",
    "                break\n",
    "        if flag==1: break\n",
    "        baki = len(a1) - len(b1)\n",
    "        x = a1[len(b1):]\n",
    "        x2 = \"0\"*baki\n",
    "        if (x != x2): \n",
    "            print(-1)\n",
    "            break\n",
    "            \n",
    "    "
   ]
  },
  {
   "cell_type": "code",
   "execution_count": 4,
   "metadata": {},
   "outputs": [
    {
     "data": {
      "text/plain": [
       "1.0"
      ]
     },
     "execution_count": 4,
     "metadata": {},
     "output_type": "execute_result"
    }
   ],
   "source": [
    "(342446097573989668/2)/171223048786994834"
   ]
  },
  {
   "cell_type": "code",
   "execution_count": 12,
   "metadata": {},
   "outputs": [
    {
     "data": {
      "text/plain": [
       "1"
      ]
     },
     "execution_count": 12,
     "metadata": {},
     "output_type": "execute_result"
    }
   ],
   "source": [
    "7//4"
   ]
  },
  {
   "cell_type": "code",
   "execution_count": null,
   "metadata": {},
   "outputs": [],
   "source": []
  }
 ],
 "metadata": {
  "kernelspec": {
   "display_name": "Python 3",
   "language": "python",
   "name": "python3"
  },
  "language_info": {
   "codemirror_mode": {
    "name": "ipython",
    "version": 3
   },
   "file_extension": ".py",
   "mimetype": "text/x-python",
   "name": "python",
   "nbconvert_exporter": "python",
   "pygments_lexer": "ipython3",
   "version": "3.7.3"
  }
 },
 "nbformat": 4,
 "nbformat_minor": 2
}
